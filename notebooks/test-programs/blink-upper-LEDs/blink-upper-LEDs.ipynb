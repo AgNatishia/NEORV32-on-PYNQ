{
 "cells": [
  {
   "cell_type": "markdown",
   "metadata": {},
   "source": [
    "## Eviroment Setup\n",
    "bin2coe is needed to generate the coe file for simulating the program on the desktop\n",
    "\n",
    "compilerMagic is needed to compile the C program cell"
   ]
  },
  {
   "cell_type": "code",
   "execution_count": null,
   "metadata": {},
   "outputs": [],
   "source": [
    "!pip3 install bin2coe"
   ]
  },
  {
   "cell_type": "code",
   "execution_count": 1,
   "metadata": {},
   "outputs": [],
   "source": [
    "%load_ext compilerMagic"
   ]
  },
  {
   "cell_type": "markdown",
   "metadata": {},
   "source": [
    "## Program Cell\n",
    "The cell below contains the C code of the program"
   ]
  },
  {
   "cell_type": "code",
   "execution_count": 2,
   "metadata": {},
   "outputs": [
    {
     "name": "stdout",
     "output_type": "stream",
     "text": [
      "make clean exe\n",
      "Memory utilization:\n",
      "   text\t   data\t    bss\t    dec\t    hex\tfilename\n",
      "    428\t      0\t      0\t    428\t    1ac\tmain.elf\n",
      "Executable (neorv32_exe.bin) size in bytes:\n",
      "440\n",
      "\n",
      "mv main.bin blink_upper_LEDs.bin\n",
      "\n",
      "riscv32-unknown-elf-objdump -D main.elf > blink_upper_LEDs.objdump\n",
      "\n",
      "bin2coe -i blink_upper_LEDs.bin -o blink_upper_LEDs.coe -w 32\n",
      "\n"
     ]
    }
   ],
   "source": [
    "%%riscvc blink_upper_LEDs\n",
    "\n",
    "#include <stdint.h>\n",
    "\n",
    "const int value = 0;\n",
    "const int tristate = 1;\n",
    "int32_t volatile * const buttons = (int32_t*) 0x40010000;\n",
    "int32_t volatile * const LEDs    = (int32_t*) 0x40020000;\n",
    "\n",
    "int main()\n",
    "{\n",
    "  // Turn off all LEDs\n",
    "  LEDs[tristate] = 0;\n",
    "\n",
    "  while(1)\n",
    "  {\n",
    "    for(int i = 0; i < 4; i++)\n",
    "    {\n",
    "      LEDs[value] = i;\n",
    "    }\n",
    "  }\n",
    "\n",
    "  return 0;\n",
    "}\n"
   ]
  },
  {
   "cell_type": "markdown",
   "metadata": {},
   "source": [
    "## Overlay handling\n",
    "\n",
    "The following cells handle instancatiung, programming, and restarting the neo overlay."
   ]
  },
  {
   "cell_type": "code",
   "execution_count": 3,
   "metadata": {},
   "outputs": [
    {
     "data": {
      "application/javascript": [
       "\n",
       "require(['notebook/js/codecell'], function(codecell) {\n",
       "  codecell.CodeCell.options_default.highlight_modes[\n",
       "      'magic_text/x-csrc'] = {'reg':[/^%%microblaze/]};\n",
       "  Jupyter.notebook.events.one('kernel_ready.Kernel', function(){\n",
       "      Jupyter.notebook.get_cells().map(function(cell){\n",
       "          if (cell.cell_type == 'code'){ cell.auto_highlight(); } }) ;\n",
       "  });\n",
       "});\n"
      ]
     },
     "metadata": {},
     "output_type": "display_data"
    }
   ],
   "source": [
    "from pynq.overlay import Overlay\n",
    "neo_overlay = Overlay(r\"/home/xilinx/neorv32_overlays/rv32i_overlay.bit\")\n",
    "\n",
    "from pynq import GPIO\n",
    "\n",
    "neo_reset_n = GPIO(GPIO.get_gpio_pin(0), 'out')\n",
    "neo_reset_n.write(1)\n"
   ]
  },
  {
   "cell_type": "code",
   "execution_count": 4,
   "metadata": {},
   "outputs": [],
   "source": [
    "# Wrtie bin file to memory\n",
    "little_endian = False\n",
    "BRAM_data = [] \n",
    "with open(\"blink_upper_LEDs.bin\", \"rb\") as f:\n",
    "    addr = 0\n",
    "    raw_bytes = raw_bytes = f.read(4)\n",
    "    while raw_bytes != b\"\":\n",
    "        if little_endian:\n",
    "            BRAM_data.append(\n",
    "                sum([\n",
    "                    raw_bytes[0] << 3*8,\n",
    "                    raw_bytes[1] << 2*8,\n",
    "                    raw_bytes[2] << 1*8,\n",
    "                    raw_bytes[3] << 0*8,\n",
    "                ])\n",
    "            )   \n",
    "        else:\n",
    "            BRAM_data.append(\n",
    "                sum([\n",
    "                    raw_bytes[3] << 3*8,\n",
    "                    raw_bytes[2] << 2*8,\n",
    "                    raw_bytes[1] << 1*8,\n",
    "                    raw_bytes[0] << 0*8,\n",
    "                ])\n",
    "            )\n",
    "\n",
    "        addr += 4\n",
    "        raw_bytes = f.read(4)\n",
    "\n",
    "#for addr, data in enumerate(BRAM_data):#\n",
    "#    print(hex(4*addr)[2:], hex(data)[2:])\n",
    "\n",
    "neo_reset_n.write(0)\n",
    "\n",
    "for addr, word in enumerate(BRAM_data):\n",
    "    neo_overlay.pynq_BRAM_controller.write(4*addr, word)\n",
    "\n",
    "neo_reset_n.write(1)"
   ]
  },
  {
   "cell_type": "code",
   "execution_count": 5,
   "metadata": {},
   "outputs": [],
   "source": [
    "# Neo kickoff\n",
    "\n",
    "neo_reset_n.write(0)\n",
    "\n",
    "for _ in range(2**10):\n",
    "    pass\n",
    "    \n",
    "neo_reset_n.write(1)"
   ]
  },
  {
   "cell_type": "code",
   "execution_count": null,
   "metadata": {},
   "outputs": [],
   "source": []
  }
 ],
 "metadata": {
  "kernelspec": {
   "display_name": "Python 3",
   "language": "python",
   "name": "python3"
  },
  "language_info": {
   "codemirror_mode": {
    "name": "ipython",
    "version": 3
   },
   "file_extension": ".py",
   "mimetype": "text/x-python",
   "name": "python",
   "nbconvert_exporter": "python",
   "pygments_lexer": "ipython3",
   "version": "3.6.5"
  }
 },
 "nbformat": 4,
 "nbformat_minor": 5
}
