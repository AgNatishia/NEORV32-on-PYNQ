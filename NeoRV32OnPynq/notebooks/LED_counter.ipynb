{
 "cells": [
  {
   "cell_type": "markdown",
   "metadata": {},
   "source": [
    "## Eviroment Setup\n",
    "bin2coe is needed to generate the coe file for simulating the program on the desktop\n",
    "\n",
    "compilerMagic is needed to compile the C program cell"
   ]
  },
  {
   "cell_type": "code",
   "execution_count": 1,
   "metadata": {},
   "outputs": [
    {
     "data": {
      "application/javascript": [
       "\n",
       "try {\n",
       "require(['notebook/js/codecell'], function(codecell) {\n",
       "  codecell.CodeCell.options_default.highlight_modes[\n",
       "      'magic_text/x-csrc'] = {'reg':[/^%%microblaze/]};\n",
       "  Jupyter.notebook.events.one('kernel_ready.Kernel', function(){\n",
       "      Jupyter.notebook.get_cells().map(function(cell){\n",
       "          if (cell.cell_type == 'code'){ cell.auto_highlight(); } }) ;\n",
       "  });\n",
       "});\n",
       "} catch (e) {};\n"
      ]
     },
     "metadata": {},
     "output_type": "display_data"
    },
    {
     "data": {
      "application/javascript": [
       "\n",
       "try {\n",
       "require(['notebook/js/codecell'], function(codecell) {\n",
       "  codecell.CodeCell.options_default.highlight_modes[\n",
       "      'magic_text/x-csrc'] = {'reg':[/^%%pybind11/]};\n",
       "  Jupyter.notebook.events.one('kernel_ready.Kernel', function(){\n",
       "      Jupyter.notebook.get_cells().map(function(cell){\n",
       "          if (cell.cell_type == 'code'){ cell.auto_highlight(); } }) ;\n",
       "  });\n",
       "});\n",
       "} catch (e) {};\n"
      ]
     },
     "metadata": {},
     "output_type": "display_data"
    }
   ],
   "source": [
    "import NEORV32_on_PYNQ\n",
    "%load_ext NEORV32_on_PYNQ"
   ]
  },
  {
   "cell_type": "markdown",
   "metadata": {},
   "source": [
    "## Program Cell\n",
    "The cell below contains the C code of the program"
   ]
  },
  {
   "cell_type": "code",
   "execution_count": 2,
   "metadata": {},
   "outputs": [
    {
     "name": "stdout",
     "output_type": "stream",
     "text": [
      "mkdir -p programs/LED_counter\n",
      "\n",
      "cp /usr/local/lib/python3.6/dist-packages/NEORV32_on_PYNQ/makefile programs/LED_counter/makefile\n",
      "\n",
      "make clean exe NEORV32_HOME=/usr/local/lib/python3.6/dist-packages/NEORV32_on_PYNQ/NEORV_lib LD_SCRIPT=/usr/local/lib/python3.6/dist-packages/NEORV32_on_PYNQ/NEORV32_on_PYNQ.ld\n",
      "Memory utilization:\n",
      "   text\t   data\t    bss\t    dec\t    hex\tfilename\n",
      "    416\t      0\t      0\t    416\t    1a0\tmain.elf\n",
      "Compiling /usr/local/lib/python3.6/dist-packages/NEORV32_on_PYNQ/NEORV_lib/sw/image_gen/image_gen\n",
      "Executable (neorv32_exe.bin) size in bytes:\n",
      "428\n",
      "\n",
      "mv main.bin LED_counter.bin\n",
      "\n",
      "mv main.asm LED_counter.asm\n",
      "\n",
      "bin2coe -i LED_counter.bin -o LED_counter.coe -w 32\n",
      "\n",
      "rm main.* neorv32_exe.bin\n",
      "\n"
     ]
    }
   ],
   "source": [
    "%%riscvc LED_counter\n",
    "\n",
    "#include <stdint.h>\n",
    "\n",
    "const int value = 0;\n",
    "const int tristate = 1;\n",
    "int32_t volatile * const buttons = (int32_t*) 0x40010000;\n",
    "int32_t volatile * const LEDs    = (int32_t*) 0x40020000;\n",
    "\n",
    "int main()\n",
    "{\n",
    "  // Turn off all LEDs\n",
    "  LEDs[tristate] = 0;\n",
    "\n",
    "  while(1)\n",
    "  {\n",
    "    for(int i = 0; i < 16; i++)\n",
    "    {\n",
    "      LEDs[value] = i;\n",
    "    }\n",
    "  }\n",
    "\n",
    "  return 0;\n",
    "}\n",
    "\n"
   ]
  },
  {
   "cell_type": "markdown",
   "metadata": {},
   "source": [
    "## Overlay handling\n",
    "\n",
    "The following cells handle instancatiung, programming, and restarting the neo overlay."
   ]
  },
  {
   "cell_type": "code",
   "execution_count": 2,
   "metadata": {},
   "outputs": [],
   "source": [
    "neo_overlay = NEORV32_on_PYNQ.overlay()"
   ]
  },
  {
   "cell_type": "code",
   "execution_count": 3,
   "metadata": {},
   "outputs": [],
   "source": [
    "# Wrtie bin file to memory\n",
    "neo_overlay.load_program(\"programs/LED_counter/LED_counter.bin\")"
   ]
  },
  {
   "cell_type": "code",
   "execution_count": 4,
   "metadata": {},
   "outputs": [],
   "source": [
    "# Neo kickoff\n",
    "neo_overlay.pulse_reset()"
   ]
  },
  {
   "cell_type": "code",
   "execution_count": null,
   "metadata": {},
   "outputs": [],
   "source": []
  }
 ],
 "metadata": {
  "kernelspec": {
   "display_name": "Python 3",
   "language": "python",
   "name": "python3"
  },
  "language_info": {
   "codemirror_mode": {
    "name": "ipython",
    "version": 3
   },
   "file_extension": ".py",
   "mimetype": "text/x-python",
   "name": "python",
   "nbconvert_exporter": "python",
   "pygments_lexer": "ipython3",
   "version": "3.6.5"
  }
 },
 "nbformat": 4,
 "nbformat_minor": 5
}
