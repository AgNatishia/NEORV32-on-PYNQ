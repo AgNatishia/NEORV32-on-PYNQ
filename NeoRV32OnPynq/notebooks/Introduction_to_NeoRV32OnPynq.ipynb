{
 "cells": [
  {
   "cell_type": "markdown",
   "metadata": {},
   "source": [
    "# Introduction to NeoRV32OnPynq\n"
   ]
  },
  {
   "cell_type": "markdown",
   "metadata": {},
   "source": [
    "## Aims\n",
    "\n",
    "* Introduce the compiler magic provided by NeoRV32OnPynq, and how to use it. \n",
    "* Introduce the NeoRV32OnPynq overlay GUI"
   ]
  },
  {
   "cell_type": "markdown",
   "metadata": {},
   "source": [
    "# Introducing the Compiler Magic\n"
   ]
  },
  {
   "cell_type": "markdown",
   "metadata": {},
   "source": [
    "This section will introduce the compiler magic provided by NeoRV32OnPynq, riscvc.\n",
    "This magic enables C programs to be written in any Jupiter Notebook cell, and then compiled simply by running said cell.\n",
    "Before this magic can be used it must be loaded, which is done by the line below"
   ]
  },
  {
   "cell_type": "code",
   "execution_count": null,
   "metadata": {},
   "outputs": [],
   "source": [
    "%load_ext NeoRV32OnPynq"
   ]
  },
  {
   "cell_type": "markdown",
   "metadata": {},
   "source": [
    "The compiler magic is called using <code> %%riscvc <i>program_name</i> </code>. \n",
    "The compiled program can be found in \"programs/<i>program_name</i>/<i>program_name</i>.bin\", where \"programs\" is a folder in the same directory as the notebook that called the magic. \n",
    "\n",
    "The \"programs\" folder, and its children (each named for the program they contain), serve as a way to  prevent different programs from interferring with each other. Each child folder contains not only the compiled program (.bin), but also any intermedate files (.c, .o), and some files useful for debugging (.asm, .coe)."
   ]
  },
  {
   "cell_type": "markdown",
   "metadata": {},
   "source": [
    "<div class=\"alert alert-box alert-info\">\n",
    "There is no need to worry about creating a \"programs\" folder, or any of its children, as the compiler magic handles this as needed.\n",
    "</div>"
   ]
  },
  {
   "cell_type": "markdown",
   "metadata": {},
   "source": [
    "<div class=\"alert alert-box alert-info\">\n",
    "The compiler magic is a cell magic, it must be the first statement in a cell, with the rest of the cell's content being interpreted by the magic.\n",
    "</div>"
   ]
  },
  {
   "cell_type": "markdown",
   "metadata": {},
   "source": [
    "## Compiler Magic Example"
   ]
  },
  {
   "cell_type": "markdown",
   "metadata": {},
   "source": [
    "Below is an example of how to use the compiler magic.\n",
    "Upon running the cell below a number of effects should be seen:\n",
    "* If there wasn't already a \"programs\" folder, one will have been created\n",
    "* If there wasn't already a \"programs\\flash_LEDs\" folder, one will have been created\n",
    "* A makefile was added to \"programs\\flash_LEDs\"\n",
    "* \"programs\\flash_LEDs\\flash_LEDs.c\" was (re)created and contains everything but the first line of the compiler magic cell \n",
    "* \"programs\\flash_LEDs\\flash_LEDs.c.o\" was (re)created\n",
    "* \"programs\\flash_LEDs\\flash_LEDs.bin\" was (re)created\n",
    "* \"programs\\flash_LEDs\\flash_LEDs.asm\" was (re)created\n",
    "* \"programs\\flash_LEDs\\flash_LEDs.coe\" was (re)created\n"
   ]
  },
  {
   "cell_type": "code",
   "execution_count": null,
   "metadata": {
    "scrolled": true
   },
   "outputs": [],
   "source": [
    "%%riscvc flash_LEDs\n",
    "\n",
    "//Define int32_t\n",
    "#include <stdint.h>\n",
    "\n",
    "// Define volatile pointer to LED GPIO handler\n",
    "int32_t volatile * const LEDs = (int32_t*) 0x40020000;\n",
    "\n",
    "// Define offsets for LED GPIO handler's register map\n",
    "const int32_t value = 0;\n",
    "const int32_t tristate = 1;\n",
    "\n",
    "int main()\n",
    "{\n",
    "    // Set all LEDs GPIO as outputs\n",
    "    LEDs[tristate] = 0;\n",
    "    \n",
    "    // Set the LEDs in off state\n",
    "    int32_t LED_data = 0;\n",
    "\n",
    "    // Toggle the LEDs forever\n",
    "    while(1)\n",
    "    {\n",
    "        LEDs[value] = LED_data;\n",
    "        if (LED_data != 0)\n",
    "        {\n",
    "            LED_data = 0;\n",
    "        }\n",
    "        else\n",
    "        {\n",
    "            LED_data = 15;\n",
    "        }\n",
    "    }\n",
    "\n",
    "    return 0;\n",
    "}\n",
    "\n"
   ]
  },
  {
   "cell_type": "markdown",
   "metadata": {},
   "source": [
    "## Compiler Magic Example 2\n"
   ]
  },
  {
   "cell_type": "markdown",
   "metadata": {},
   "source": [
    "A notebook is not restricted to compiling a single program, below is an example of the compiler magic being used to compile another program, the same set of effects should be seen upon running this cell."
   ]
  },
  {
   "cell_type": "code",
   "execution_count": null,
   "metadata": {},
   "outputs": [],
   "source": [
    "%%riscvc LED_counter\n",
    "\n",
    "//Define int32_t\n",
    "#include <stdint.h>\n",
    "\n",
    "// Define volatile pointer to LED GPIO handler\n",
    "int32_t volatile * const LEDs = (int32_t*) 0x40020000;\n",
    "\n",
    "// Define offsets for LED GPIO handler's register map\n",
    "const int32_t value = 0;\n",
    "const int32_t tristate = 1;\n",
    "\n",
    "int main()\n",
    "{\n",
    "    // Set all LEDs GPIO as outputs\n",
    "    LEDs[tristate] = 0;\n",
    "\n",
    "    // Toggle the LEDs forever\n",
    "    while(1)\n",
    "    {\n",
    "        for(int32_t i=0; i < 16; i++)\n",
    "        {\n",
    "            LEDs[value] = i;\n",
    "        }\n",
    "    }\n",
    "\n",
    "    return 0;\n",
    "}"
   ]
  },
  {
   "cell_type": "markdown",
   "metadata": {},
   "source": [
    "# Interacting with the Processor\n"
   ]
  },
  {
   "cell_type": "markdown",
   "metadata": {},
   "source": [
    "Now that we have some programs compiled with the compiler magic, lets look at how to interact with the the NeoRV processor.\n",
    "All interactions with the processor are done through the `NeoRV32` class within the `NeoRV32OnPynq` module.\n",
    "The code below first imports the `NeoRV32` class and then by creating an object of the `NeoRV32` class sets up the board with the NeoRV processor overlay."
   ]
  },
  {
   "cell_type": "code",
   "execution_count": null,
   "metadata": {},
   "outputs": [],
   "source": [
    "from NeoRV32OnPynq import NeoRV32\n",
    "neorv = NeoRV32()"
   ]
  },
  {
   "cell_type": "markdown",
   "metadata": {},
   "source": [
    "The recommended method of interacting with the processor is via the GUI provided; which consists of 3  parts, each handling a different stage/type of interaction.\n",
    "Each part will be covered in their own section, but below is an overview of each.\n",
    "* Program Loading, this section handles the selection and loading of programs to run on the processor\n",
    "* Execution Control, this section controls when the processor can executes instruction, providing stepping, continous, and run until condition options\n",
    "* Internal Inspection, this section displays a range of signals internal to the NeoRV32, aiding in debugging and/or tracking of the instructions through the processor"
   ]
  },
  {
   "cell_type": "markdown",
   "metadata": {},
   "source": [
    "## Program Loading\n"
   ]
  },
  {
   "cell_type": "markdown",
   "metadata": {},
   "source": [
    "The program loading section of the GUI is responsbile for enabling a user to select any of the programs found in \"programs\" and loading them to be run by the NeoRV32. \n",
    "It is accessed via the `load_program` function of the `NeoRV32` class as shown below."
   ]
  },
  {
   "cell_type": "code",
   "execution_count": null,
   "metadata": {},
   "outputs": [],
   "source": [
    "neorv.load_program()"
   ]
  },
  {
   "cell_type": "markdown",
   "metadata": {},
   "source": [
    "To load a program to the processor\n",
    "<ol>\n",
    "<li>Select the program from the dropdown. If the program you are looking isn't listed in the dropdown, try rerunning `reorv.load_program()` this will check the \"programs\" folder again and update the program list</li>\n",
    "<li>Once the desired program is selected in the dropdown, click the \"Load Program\" button. This will read that programs .bin file, load it to the processor, and reset the processor's PC back to the start of the new program</li>\n",
    "<li>Once the program has been loaded the \"Last Loaded\" field will update to show the name of the program loaded, and ready to be executed.</li>\n",
    "</ol>"
   ]
  },
  {
   "cell_type": "markdown",
   "metadata": {},
   "source": [
    "## Execution Control"
   ]
  },
  {
   "cell_type": "markdown",
   "metadata": {},
   "source": [
    "The execution control section of the GUI is responsbile for controlling when the processor can execute instructions. \n",
    "It enables control of the NeoRV32 as varied as running in single clock cycle steps to running the processor until a specific position within the program is reached.\n",
    "It is accessed via the `execution_control` function of the `NeoRV32` class as shown below."
   ]
  },
  {
   "cell_type": "code",
   "execution_count": null,
   "metadata": {},
   "outputs": [],
   "source": [
    " neorv.execution_control()"
   ]
  },
  {
   "cell_type": "markdown",
   "metadata": {},
   "source": [
    "The execution control GUI has 3 main sections: the rules controls, the buttons, and the output panel.\n",
    "I will explain the buttons first as it is only when they are clicked that anything is sent to the processor.\n",
    "<ul>\n",
    "<li>Step Clock, when clicked the processor runs for a single clock cycle</li>\n",
    "<li>Step Instruction, when clicked the process runs until an instruction completes.</li>\n",
    "<li>Run/Stop, the behaviour of this button depends on the rules control section.\n",
    "<ul>\n",
    "<li> If none of the rules are enabled, then the processor's state is checked. \n",
    "If the processor is running, it is stopped, while if it wasn't running, it is set to run continually</li>\n",
    "<li> If any combination of the rules are enabled, then the processor is set to run as dictated by the rules</li>\n",
    "</ul>\n",
    "</li>\n",
    "<li>Restart Program, when clicked the processor is reset back to the start of program, and stopped before any cycles are executed</li>\n",
    "</ul>\n",
    "\n",
    "There are currently 3 rules:\n",
    "<ul>\n",
    "<li> Clock Counter, runs the processor for the given number of clock cycles </li>\n",
    "<li> Instructions Counter, runs the processor until the given number of instructions have been completed </li>\n",
    "<li> PC Target, runs the processor until its program counter (PC) equals the given value</li>\n",
    "</ul>\n",
    "These rules can be used in any combination, however when more than 1 are enabled at the same time the processor will only run until any of them complete. \n",
    "Eg if the clock counter rule is enabled with a count of 100 clock cycles, at same time as the PC target rule is enabled.\n",
    "And it only takes 20 clock cycles to reach the given PC target, then the processor will stop upon reaching the PC target.\n",
    "Whereas if it would take 150 clock cycles to reach the given PC target, then the processor will stop after the 100 clock cycle count is reached.\n",
    "\n",
    "Upon being clicked all of the buttons will update the output panel with how they are telling the processor to run.\n"
   ]
  },
  {
   "cell_type": "markdown",
   "metadata": {},
   "source": [
    "<div class=\"alert alert-box alert-info\">\n",
    "Note: An instruction completing is determined by the processor's PC updating.\n",
    "This means that if the processor has partially executed an instruction (say because it was stepped by clock cycles) when an instruction based rule is started, finishing the partially executed instruction will count as the first instruction; with the first full instruction counting as the second instruction.\n",
    "</div>"
   ]
  },
  {
   "cell_type": "markdown",
   "metadata": {},
   "source": [
    "<div class=\"alert alert-box alert-info\">\n",
    "All the rules' number fields support binary (prefixed with 0b/0B), hexidecimal (prefixed with 0x/0X), and decimal (no prefix) numbers\n",
    "</div>"
   ]
  },
  {
   "cell_type": "markdown",
   "metadata": {},
   "source": [
    "## Internal Inspection"
   ]
  },
  {
   "cell_type": "markdown",
   "metadata": {},
   "source": [
    "The internal inspection section of the GUI is responsbile for capturing and displaying a range of signals internal to the processor. \n",
    "These signals are visible to aid in debugging, and to enable instructions to be tracked though the processor.\n",
    "It is accessed via the `show_internals` function of the `NeoRV32` class as shown below."
   ]
  },
  {
   "cell_type": "code",
   "execution_count": null,
   "metadata": {},
   "outputs": [],
   "source": [
    "neorv.show_internals()"
   ]
  },
  {
   "cell_type": "markdown",
   "metadata": {},
   "source": [
    "The internal inspection GUI only has a single button, labeled \"Capture Internals\",  which when clicked will read the values of the internal signals and update the display with these new values.\n",
    "\n",
    "The internal signals have been grouped by what part of the NeoRV/peripheral they relate to:\n",
    "<ul>\n",
    "<li> Regfile tab, signals under this tab relate to reading, writing, and comparing of NeoRV's registers</li>\n",
    "<li> ALU tab, signals under this tab relate to the arithmetic logic unit (ALU) and handling the rv32i base instruction set</li>\n",
    "<li> Co-Processors tab, signals under this tab relate the NeoRV's co-processors. \n",
    "Note co-processors are how the NeoRV handles RISC-V extensions, with a co-processor handling the instruction added by an extension</li>\n",
    "<li> Bus Control, signals under this tab relate to controllong the instruction fetch and data access buses of the NeoRV</li>\n",
    "<li> Bus Switch, signals under this tab relate to switching the internal bus between the instruction fetch and data access buses as needed by the NeoRV</li>\n",
    "<li> External Bus, signals under this tab relate to converting the internal bus to an external axi4lite bus, via a intermedate wishbone bus</li>\n",
    "<li> BRAM, the signals under this tab relate to the block RAM (BRAM) which acts as both instruction and data memory for the NeoRV</li>\n",
    "<li> LED, the signals under this tab relate to controlling the 4 LEDs on the PYNQ-Z2 board with the NeoRV</li>\n",
    "<li> Buttons, the signals under this tab relate to reading the 4 buttons on the PYnQ-Z2 board and making them readible to the NeoRV</li>\n",
    "</ul>\n",
    "</li>"
   ]
  },
  {
   "cell_type": "markdown",
   "metadata": {},
   "source": [
    "<div class=\"alert alert-box alert-info\">\n",
    "Reading the internal signals takes multiple clock cycles, and so should be done only when the processor is stopped.\n",
    "Otherwise the values captured and displayed may relate to different processor states, and carry little to no useful information.\n",
    "</div>"
   ]
  },
  {
   "cell_type": "code",
   "execution_count": null,
   "metadata": {},
   "outputs": [],
   "source": []
  }
 ],
 "metadata": {
  "kernelspec": {
   "display_name": "Python 3",
   "language": "python",
   "name": "python3"
  },
  "language_info": {
   "codemirror_mode": {
    "name": "ipython",
    "version": 3
   },
   "file_extension": ".py",
   "mimetype": "text/x-python",
   "name": "python",
   "nbconvert_exporter": "python",
   "pygments_lexer": "ipython3",
   "version": "3.6.5"
  }
 },
 "nbformat": 4,
 "nbformat_minor": 5
}
