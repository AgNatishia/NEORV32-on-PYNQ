{
 "cells": [
  {
   "cell_type": "markdown",
   "metadata": {},
   "source": [
    "# Introduction to NeoRV32OnPynq\n"
   ]
  },
  {
   "cell_type": "markdown",
   "metadata": {},
   "source": [
    "## Aims\n",
    "\n",
    "* Introduce the compiler magic provided by NeoRV32OnPynq, and how to use it. \n",
    "* Introduce the NeoRV32OnPynq overlay GUI"
   ]
  },
  {
   "cell_type": "markdown",
   "metadata": {},
   "source": [
    "# Introducing the Compiler Magic\n"
   ]
  },
  {
   "cell_type": "markdown",
   "metadata": {},
   "source": [
    "This section will introduce the compiler magic provided by NeoRV32OnPynq, riscvc.\n",
    "This magic enables C programs to be written in any Jupiter Notebook cell, and then compiled simply by running said cell\n",
    "Before this magic can be used it must be loaded, which is done by the line below"
   ]
  },
  {
   "cell_type": "code",
   "execution_count": 1,
   "metadata": {},
   "outputs": [
    {
     "data": {
      "application/javascript": [
       "\n",
       "try {\n",
       "require(['notebook/js/codecell'], function(codecell) {\n",
       "  codecell.CodeCell.options_default.highlight_modes[\n",
       "      'magic_text/x-csrc'] = {'reg':[/^%%microblaze/]};\n",
       "  Jupyter.notebook.events.one('kernel_ready.Kernel', function(){\n",
       "      Jupyter.notebook.get_cells().map(function(cell){\n",
       "          if (cell.cell_type == 'code'){ cell.auto_highlight(); } }) ;\n",
       "  });\n",
       "});\n",
       "} catch (e) {};\n"
      ]
     },
     "metadata": {},
     "output_type": "display_data"
    },
    {
     "data": {
      "application/javascript": [
       "\n",
       "try {\n",
       "require(['notebook/js/codecell'], function(codecell) {\n",
       "  codecell.CodeCell.options_default.highlight_modes[\n",
       "      'magic_text/x-csrc'] = {'reg':[/^%%pybind11/]};\n",
       "  Jupyter.notebook.events.one('kernel_ready.Kernel', function(){\n",
       "      Jupyter.notebook.get_cells().map(function(cell){\n",
       "          if (cell.cell_type == 'code'){ cell.auto_highlight(); } }) ;\n",
       "  });\n",
       "});\n",
       "} catch (e) {};\n"
      ]
     },
     "metadata": {},
     "output_type": "display_data"
    }
   ],
   "source": [
    "%load_ext NeoRV32OnPynq"
   ]
  },
  {
   "cell_type": "markdown",
   "metadata": {},
   "source": [
    "The compiler magic is called using <code> %%riscvc <i>progam_name</i> </code>. \n",
    "The compiled program can be found in \"programs/<i>progam_name</i>/<i>progam_name</i>.bin\", where \"programs\" is a folder in the same location as the notebook in which the compiler magic was run. \n",
    "\n",
    "The \"programs\" folder, and its children (each named for the program they contain), serve as a way to  prevent different programs from inferring with each other. Each child folder contains not only the compiled program (.bin), but also any intermedate files (.c, .o), and some files useful for debugging (.asm, .coe)."
   ]
  },
  {
   "cell_type": "markdown",
   "metadata": {},
   "source": [
    "<div class=\"alert alert-box alert-info\">\n",
    "There is no need to worry about creating a \"programs\" folder, or any of its children, as the compiler magic handles this as needed.\n",
    "</div>"
   ]
  },
  {
   "cell_type": "markdown",
   "metadata": {},
   "source": [
    "<div class=\"alert alert-box alert-info\">\n",
    "The compiler magic is a cell magic, meaning that it needs to be the first statement in a cell, and the rest of the cell's content will be interpreted by the magic.\n",
    "</div>"
   ]
  },
  {
   "cell_type": "markdown",
   "metadata": {},
   "source": [
    "## Compiler Magic Example"
   ]
  },
  {
   "cell_type": "markdown",
   "metadata": {},
   "source": [
    "Below is an example of how to use the compiler magic.\n",
    "Upon running the cell below a number of effects should be seen:\n",
    "* If there wasn't already a \"programs\" folder, one will have been created\n",
    "* If there wasn't already a \"programs\\flash_LEDs\" folder, one will have been created\n",
    "* A makefile was added to \"programs\\flash_LEDs\"\n",
    "* \"programs\\flash_LEDs\\flash_LEDs.c\" was (re)created and contains everything but the first line of the compiler magic cell \n",
    "* \"programs\\flash_LEDs\\flash_LEDs.c.o\" was (re)created\n",
    "* \"programs\\flash_LEDs\\flash_LEDs.bin\" was (re)created\n",
    "* \"programs\\flash_LEDs\\flash_LEDs.asm\" was (re)created\n",
    "* \"programs\\flash_LEDs\\flash_LEDs.coe\" was (re)created\n"
   ]
  },
  {
   "cell_type": "code",
   "execution_count": 2,
   "metadata": {
    "scrolled": true
   },
   "outputs": [
    {
     "name": "stdout",
     "output_type": "stream",
     "text": [
      "mkdir -p programs/flash_LEDs\n",
      "\n",
      "cp /usr/local/lib/python3.6/dist-packages/NeoRV32OnPynq/makefile programs/flash_LEDs/makefile\n",
      "\n",
      "make clean exe NEORV32_HOME=/usr/local/lib/python3.6/dist-packages/NeoRV32OnPynq/NEORV_lib LD_SCRIPT=/usr/local/lib/python3.6/dist-packages/NeoRV32OnPynq/NeoRV32OnPynq.ld\n",
      "Memory utilization:\n",
      "   text\t   data\t    bss\t    dec\t    hex\tfilename\n",
      "    412\t      0\t      0\t    412\t    19c\tmain.elf\n",
      "Compiling /usr/local/lib/python3.6/dist-packages/NeoRV32OnPynq/NEORV_lib/sw/image_gen/image_gen\n",
      "Executable (neorv32_exe.bin) size in bytes:\n",
      "424\n",
      "\n",
      "mv main.bin flash_LEDs.bin\n",
      "\n",
      "mv main.asm flash_LEDs.asm\n",
      "\n",
      "bin2coe -i flash_LEDs.bin -o flash_LEDs.coe -w 32\n",
      "\n",
      "rm main.* neorv32_exe.bin\n",
      "\n"
     ]
    }
   ],
   "source": [
    "%%riscvc flash_LEDs\n",
    "\n",
    "//Define int32_t\n",
    "#include <stdint.h>\n",
    "\n",
    "// Define volatile pointer to LED GPIO handler\n",
    "int32_t volatile * const LEDs = (int32_t*) 0x40020000;\n",
    "\n",
    "// Define outsets for LED GPIO handler's regmap\n",
    "const int32_t value = 0;\n",
    "const int32_t tristate = 1;\n",
    "\n",
    "int main()\n",
    "{\n",
    "    // Set all LEDs GPIO as outputs\n",
    "    LEDs[tristate] = 0;\n",
    "    \n",
    "    // Set the LEDs in off state\n",
    "    LEDs[value] = 0;\n",
    "\n",
    "    // Toggle the LEDs forever\n",
    "    while(1)\n",
    "    {\n",
    "        LEDs[value] = ~LEDs[value];\n",
    "    }\n",
    "\n",
    "    return 0;\n",
    "}\n",
    "\n"
   ]
  },
  {
   "cell_type": "markdown",
   "metadata": {},
   "source": [
    "## Compiler Magic Example 2\n"
   ]
  },
  {
   "cell_type": "markdown",
   "metadata": {},
   "source": [
    "A notebook is not restricted to compiling a single program, below is an example of the compiler magic being used to compile another program, the same set of effects should be seen upon running this cell."
   ]
  },
  {
   "cell_type": "code",
   "execution_count": 3,
   "metadata": {},
   "outputs": [
    {
     "name": "stdout",
     "output_type": "stream",
     "text": [
      "mkdir -p programs/LED_counter\n",
      "\n",
      "cp /usr/local/lib/python3.6/dist-packages/NeoRV32OnPynq/makefile programs/LED_counter/makefile\n",
      "\n",
      "make clean exe NEORV32_HOME=/usr/local/lib/python3.6/dist-packages/NeoRV32OnPynq/NEORV_lib LD_SCRIPT=/usr/local/lib/python3.6/dist-packages/NeoRV32OnPynq/NeoRV32OnPynq.ld\n",
      "Memory utilization:\n",
      "   text\t   data\t    bss\t    dec\t    hex\tfilename\n",
      "    416\t      0\t      0\t    416\t    1a0\tmain.elf\n",
      "Executable (neorv32_exe.bin) size in bytes:\n",
      "428\n",
      "\n",
      "mv main.bin LED_counter.bin\n",
      "\n",
      "mv main.asm LED_counter.asm\n",
      "\n",
      "bin2coe -i LED_counter.bin -o LED_counter.coe -w 32\n",
      "\n",
      "rm main.* neorv32_exe.bin\n",
      "\n"
     ]
    }
   ],
   "source": [
    "%%riscvc LED_counter\n",
    "\n",
    "//Define int32_t\n",
    "#include <stdint.h>\n",
    "\n",
    "// Define volatile pointer to LED GPIO handler\n",
    "int32_t volatile * const LEDs = (int32_t*) 0x40020000;\n",
    "\n",
    "// Define outsets for LED GPIO handler's regmap\n",
    "const int32_t value = 0;\n",
    "const int32_t tristate = 1;\n",
    "\n",
    "int main()\n",
    "{\n",
    "    // Set all LEDs GPIO as outputs\n",
    "    LEDs[tristate] = 0;\n",
    "\n",
    "    // Toggle the LEDs forever\n",
    "    while(1)\n",
    "    {\n",
    "        for(int32_t i=0; i < 16; i++)\n",
    "        {\n",
    "            LEDs[value] = i;\n",
    "        }\n",
    "    }\n",
    "\n",
    "    return 0;\n",
    "}"
   ]
  },
  {
   "cell_type": "markdown",
   "metadata": {},
   "source": [
    "# Interacting with the Processor\n"
   ]
  },
  {
   "cell_type": "markdown",
   "metadata": {},
   "source": [
    "Now that we have some programs compiled with the compiler magic, lets look at how to interact with the the NeoRV processor.\n",
    "All interactions with the processor are done through the `NeoRV32` class within the `NeoRV32OnPynq` module.\n",
    "The code below first imports the `NeoRV32` class and then used it to setup the board."
   ]
  },
  {
   "cell_type": "code",
   "execution_count": 4,
   "metadata": {},
   "outputs": [],
   "source": [
    "from NeoRV32OnPynq import NeoRV32\n",
    "neorv = NeoRV32()"
   ]
  },
  {
   "cell_type": "markdown",
   "metadata": {},
   "source": [
    "The recommended method of interacting with the processor is via the GUI provided; which consists of 3  parts, each handling a different stage/type of interaction,\n",
    "Each part will be covered in their own section, but below is an overview of each.\n",
    "* Program loading, this section handles the selection and loading of programs to run on the processor\n",
    "* Execution control, this section controls when the processor can executes instruction, providing stepping, continous, and run until condition options\n",
    "* Internal Inspection, this sectio display a range of signals internal to the NeoRV32, aiding in debugging and/or tracking of the instructions though the processor"
   ]
  },
  {
   "cell_type": "markdown",
   "metadata": {},
   "source": [
    "## Program Loading\n"
   ]
  },
  {
   "cell_type": "markdown",
   "metadata": {},
   "source": [
    "The program loading section of the GUI is responsbile for enabling a user to select any of the programs found in \"programs\" and loading them to be run by the NeoRV32. \n",
    "It is accessed via the `load_program` function of the `NeoRV32` class as shown below."
   ]
  },
  {
   "cell_type": "code",
   "execution_count": 5,
   "metadata": {},
   "outputs": [
    {
     "data": {
      "application/vnd.jupyter.widget-view+json": {
       "model_id": "cda0bfd7b6214086869842e8ebca828f",
       "version_major": 2,
       "version_minor": 0
      },
      "text/plain": [
       "VBox(children=(Label(value='Program Select :'), HBox(children=(Dropdown(options=('LED_counter', 'flash_LEDs'),…"
      ]
     },
     "metadata": {},
     "output_type": "display_data"
    }
   ],
   "source": [
    "neorv.load_program()"
   ]
  },
  {
   "cell_type": "markdown",
   "metadata": {},
   "source": [
    "To load a program to the process\n",
    "<ol>\n",
    "<li>Select the program from the dropdown. If the program you are looking isn't listed in the dropdown, try rerunning `reorv.load_program()` this will check the \"programs\" folder again and update the program list</li>\n",
    "<li>Once the desired program is selected in the dropdown, click the \"Load Program\" button, This will read that programs .bin file, load it to the processor, and reset the processer's PC back to the start of the new program</li>\n",
    "<li>Once the program has be loaded the \"Last Loaded\" field will update to show the name of the preogram loaded, and ready to ready to run.</li>\n",
    "</ol>"
   ]
  },
  {
   "cell_type": "markdown",
   "metadata": {},
   "source": [
    "## Execution Control"
   ]
  },
  {
   "cell_type": "markdown",
   "metadata": {},
   "source": [
    "The execution control section of the GUI is responsbile for controling when the process can execute instructions. \n",
    "It enables control from the NeoRV32 as varied as running in single clock cycle steps to running the overlay until a specific position within the program is reached.\n",
    "It is accessed via the `execution_control` function of the `NeoRV32` class as shown below."
   ]
  },
  {
   "cell_type": "code",
   "execution_count": 6,
   "metadata": {},
   "outputs": [
    {
     "data": {
      "application/vnd.jupyter.widget-view+json": {
       "model_id": "fc591b3d168840738f37405f02e43ba2",
       "version_major": 2,
       "version_minor": 0
      },
      "text/plain": [
       "VBox(children=(Label(value='Execution Control :'), HBox(children=(VBox(children=(Label(value='Clock Counter En…"
      ]
     },
     "metadata": {},
     "output_type": "display_data"
    }
   ],
   "source": [
    " neorv.execution_control()"
   ]
  },
  {
   "cell_type": "markdown",
   "metadata": {},
   "source": []
  },
  {
   "cell_type": "markdown",
   "metadata": {},
   "source": [
    "## show_internals GUI"
   ]
  },
  {
   "cell_type": "markdown",
   "metadata": {},
   "source": [
    "display a range of signals internal to the overlay, to aid in debugging and/or tracking of the instructions though the overlay"
   ]
  },
  {
   "cell_type": "code",
   "execution_count": 7,
   "metadata": {},
   "outputs": [
    {
     "data": {
      "application/vnd.jupyter.widget-view+json": {
       "model_id": "4c1f360146054f5d815729ff1bcd6f92",
       "version_major": 2,
       "version_minor": 0
      },
      "text/plain": [
       "VBox(children=(Label(value='Internals'), Tab(children=(VBox(children=(Label(value='Regfile'), HBox(children=(V…"
      ]
     },
     "metadata": {},
     "output_type": "display_data"
    }
   ],
   "source": [
    "neorv.show_internals()"
   ]
  },
  {
   "cell_type": "markdown",
   "metadata": {},
   "source": []
  }
 ],
 "metadata": {
  "kernelspec": {
   "display_name": "Python 3",
   "language": "python",
   "name": "python3"
  },
  "language_info": {
   "codemirror_mode": {
    "name": "ipython",
    "version": 3
   },
   "file_extension": ".py",
   "mimetype": "text/x-python",
   "name": "python",
   "nbconvert_exporter": "python",
   "pygments_lexer": "ipython3",
   "version": "3.6.5"
  }
 },
 "nbformat": 4,
 "nbformat_minor": 5
}
