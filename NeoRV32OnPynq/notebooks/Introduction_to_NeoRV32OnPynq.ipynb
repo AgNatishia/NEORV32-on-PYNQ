{
 "cells": [
  {
   "cell_type": "markdown",
   "metadata": {},
   "source": [
    "# Introduction to NeoRV32OnPynq\n"
   ]
  },
  {
   "cell_type": "markdown",
   "metadata": {},
   "source": [
    "## Aims\n",
    "\n",
    "* Introduce the compiler magic provided by NeoRV32OnPynq, and how to use it. \n",
    "* Introduce the NeoRV32OnPynq overlay GUI"
   ]
  },
  {
   "cell_type": "markdown",
   "metadata": {},
   "source": [
    "# Introducing the Compiler Magic\n"
   ]
  },
  {
   "cell_type": "markdown",
   "metadata": {},
   "source": [
    "This section will introduce the compiler magic provided by NeoRV32OnPynq, riscvc.\n",
    "This magic enables C programs to be written in any Jupiter Notebook cell, and then compiled simply by running said cell\n",
    "Before this magic can be used it must be loaded, which is done by the line below"
   ]
  },
  {
   "cell_type": "code",
   "execution_count": 3,
   "metadata": {},
   "outputs": [
    {
     "name": "stdout",
     "output_type": "stream",
     "text": [
      "The NeoRV32OnPynq extension is already loaded. To reload it, use:\n",
      "  %reload_ext NeoRV32OnPynq\n"
     ]
    }
   ],
   "source": [
    "%load_ext NeoRV32OnPynq"
   ]
  },
  {
   "cell_type": "markdown",
   "metadata": {},
   "source": [
    "The compiler magic is called using <code> %%riscvc <i>progam_name</i> </code>. \n",
    "The compiled program can be found in <code> programs/<i>progam_name</i>/<i>progam_name</i>.bin </code>, where <code>programs</code> is a folder in the same location as the notebook in which the compiler magic was run. \n",
    "\n",
    "The `programs` folder, and its children (each named for the program they contain), serve as a way to  prevent different programs from inferring with each other. Each child folder contains not only the compiled program (.bin), but also any intermedate files (.c, .o), and some files useful for debugging (.asm, .coe)."
   ]
  },
  {
   "cell_type": "markdown",
   "metadata": {},
   "source": [
    "<div class=\"alert alert-box alert-info\">\n",
    "There is no need to worry about creating a <code>programs</code> folder, or any of its children, as the compiler magic handles this as needed.\n",
    "</div>"
   ]
  },
  {
   "cell_type": "markdown",
   "metadata": {},
   "source": [
    "<div class=\"alert alert-box alert-info\">\n",
    "The compiler magic is a cell magic, meaning that it needs to be the first statement in a cell, and the rest of the cell's content will be interpreted by the magic.\n",
    "</div>"
   ]
  },
  {
   "cell_type": "markdown",
   "metadata": {},
   "source": [
    "## Compiler Magic Example"
   ]
  },
  {
   "cell_type": "markdown",
   "metadata": {},
   "source": [
    "Below is an example of how to use the compiler magic.\n",
    "Upon running the cell below a number of effects should be seen:\n",
    "* If there wasn't already a `programs` folder, one will have been created\n",
    "* If there wasn't already a `programs\\flash_LEDs` folder, one will have been created\n",
    "* A makefile was added to `programs\\flash_LEDs`\n",
    "* `programs\\flash_LEDs\\flash_LEDs.c`was (re)created and contains everything but the first line of the compiler magic cell \n",
    "* `programs\\flash_LEDs\\flash_LEDs.c.o` was (re)created\n",
    "* `programs\\flash_LEDs\\flash_LEDs.bin` was (re)created\n",
    "* `programs\\flash_LEDs\\flash_LEDs.asm` was (re)created\n",
    "* `programs\\flash_LEDs\\flash_LEDs.coe` was (re)created\n"
   ]
  },
  {
   "cell_type": "code",
   "execution_count": 15,
   "metadata": {},
   "outputs": [
    {
     "name": "stdout",
     "output_type": "stream",
     "text": [
      "mkdir -p programs/flash_LEDs\n",
      "\n",
      "cp /usr/local/lib/python3.6/dist-packages/NEORV32_on_PYNQ/makefile programs/flash_LEDs/makefile\n",
      "\n",
      "make clean exe NEORV32_HOME=/usr/local/lib/python3.6/dist-packages/NEORV32_on_PYNQ/NEORV_lib LD_SCRIPT=/usr/local/lib/python3.6/dist-packages/NEORV32_on_PYNQ/NEORV32_on_PYNQ.ld\n",
      "Memory utilization:\n",
      "   text\t   data\t    bss\t    dec\t    hex\tfilename\n",
      "    412\t      0\t      0\t    412\t    19c\tmain.elf\n",
      "Executable (neorv32_exe.bin) size in bytes:\n",
      "424\n",
      "\n",
      "mv main.bin flash_LEDs.bin\n",
      "\n",
      "mv main.asm flash_LEDs.asm\n",
      "\n",
      "bin2coe -i flash_LEDs.bin -o flash_LEDs.coe -w 32\n",
      "\n",
      "rm main.* neorv32_exe.bin\n",
      "\n"
     ]
    }
   ],
   "source": [
    "%%riscvc flash_LEDs\n",
    "\n",
    "// Define int32_t\n",
    "#include <stdint.h>\n",
    "\n",
    "// Define volatile pointer to LED GPIO handler\n",
    "int32_t volatile * const LEDs = (int32_t*) 0x40020000;\n",
    "\n",
    "// Define outsets for LED GPIO handler's regmap\n",
    "const int32_t value = 0;\n",
    "const int32_t tristate = 1;\n",
    "\n",
    "int main()\n",
    "{\n",
    "    // Set all LEDs GPIO as outputs\n",
    "    LEDs[tristate] = 0;\n",
    "    \n",
    "    // Set the LEDs in off state\n",
    "    LEDs[value] = 0;\n",
    "\n",
    "    // Toggle the LEDs forever\n",
    "    while(1)\n",
    "    {\n",
    "        LEDs[value] = ~LEDs[value];\n",
    "    }\n",
    "\n",
    "    return 0;\n",
    "}\n",
    "\n"
   ]
  },
  {
   "cell_type": "markdown",
   "metadata": {},
   "source": [
    "## Compiler Magic Example 2\n"
   ]
  },
  {
   "cell_type": "markdown",
   "metadata": {},
   "source": [
    "A notebook is not restricted to compiling a single program, below is an example of the compiler magic being used to compile another program, the same set of effects should be seen upon running this cell."
   ]
  },
  {
   "cell_type": "code",
   "execution_count": 17,
   "metadata": {},
   "outputs": [
    {
     "name": "stdout",
     "output_type": "stream",
     "text": [
      "mkdir -p programs/LED_counter\n",
      "\n",
      "cp /usr/local/lib/python3.6/dist-packages/NEORV32_on_PYNQ/makefile programs/LED_counter/makefile\n",
      "\n",
      "make clean exe NEORV32_HOME=/usr/local/lib/python3.6/dist-packages/NEORV32_on_PYNQ/NEORV_lib LD_SCRIPT=/usr/local/lib/python3.6/dist-packages/NEORV32_on_PYNQ/NEORV32_on_PYNQ.ld\n",
      "Memory utilization:\n",
      "   text\t   data\t    bss\t    dec\t    hex\tfilename\n",
      "    416\t      0\t      0\t    416\t    1a0\tmain.elf\n",
      "Executable (neorv32_exe.bin) size in bytes:\n",
      "428\n",
      "\n",
      "mv main.bin LED_counter.bin\n",
      "\n",
      "mv main.asm LED_counter.asm\n",
      "\n",
      "bin2coe -i LED_counter.bin -o LED_counter.coe -w 32\n",
      "\n",
      "rm main.* neorv32_exe.bin\n",
      "\n"
     ]
    }
   ],
   "source": [
    "%%riscvc LED_counter\n",
    "\n",
    "// Define int32_t\n",
    "#include <stdint.h>\n",
    "\n",
    "// Define volatile pointer to LED GPIO handler\n",
    "int32_t volatile * const LEDs = (int32_t*) 0x40020000;\n",
    "\n",
    "// Define outsets for LED GPIO handler's regmap\n",
    "const int32_t value = 0;\n",
    "const int32_t tristate = 1;\n",
    "\n",
    "int main()\n",
    "{\n",
    "    // Set all LEDs GPIO as outputs\n",
    "    LEDs[tristate] = 0;\n",
    "\n",
    "    // Toggle the LEDs forever\n",
    "    while(1)\n",
    "    {\n",
    "        for(int32_t i=0; i < 16; i++)\n",
    "        {\n",
    "            LEDs[value] = i;\n",
    "        }\n",
    "    }\n",
    "\n",
    "    return 0;\n",
    "}"
   ]
  },
  {
   "cell_type": "markdown",
   "metadata": {},
   "source": [
    "# Introducing the NeoRV32OnPynq Overlay GUI\n",
    "\n"
   ]
  },
  {
   "cell_type": "markdown",
   "metadata": {},
   "source": [
    "Now that we have some programs compiled for the NeoRV32OnPynq overlay, lets looks at how to interact with the overlay.\n",
    "But before that we have to load the overlay onto the board, this is done by the code below.\n",
    "It loads the NeoRV32OnPynq library, then called the overlay class within it which loads the overlay onto the board and returns a handle to overlay."
   ]
  },
  {
   "cell_type": "code",
   "execution_count": 18,
   "metadata": {},
   "outputs": [],
   "source": [
    "import NeoRV32OnPynq\n",
    "ol = NeoRV32OnPynq.overlay()"
   ]
  },
  {
   "cell_type": "markdown",
   "metadata": {},
   "source": [
    "The recommended way to interact with the overlay is via the GUI provided; this GUI consists of 3 main components:\n",
    "* load_program, selection and loading of programs into the overlay's BRAM\n",
    "* execution_control, controls when the overlay executes the program, enabling simple and conditional stepping through the program\n",
    "* show_internals, display a range of signals internal to the overlay, to aid in debugging and/or tracking of the instructions though the overlay\n",
    "\n",
    "Each of the parts will be covered in their own section."
   ]
  },
  {
   "cell_type": "markdown",
   "metadata": {},
   "source": [
    "## load_program GUI\n"
   ]
  },
  {
   "cell_type": "markdown",
   "metadata": {},
   "source": [
    "The load program GUI is responsbile for enabling a user to select any of the programs found in `programs` and loading them into the overlays BRAM for execution. It is displayed using the function shown below"
   ]
  },
  {
   "cell_type": "code",
   "execution_count": 21,
   "metadata": {},
   "outputs": [
    {
     "data": {
      "application/vnd.jupyter.widget-view+json": {
       "model_id": "a57520cf74d74171b8359647a50dcbcd",
       "version_major": 2,
       "version_minor": 0
      },
      "text/plain": [
       "VBox(children=(Label(value='Program Select:'), HBox(children=(Button(description='Refresh programs', style=But…"
      ]
     },
     "metadata": {},
     "output_type": "display_data"
    }
   ],
   "source": [
    "ol.load_program()"
   ]
  },
  {
   "cell_type": "markdown",
   "metadata": {},
   "source": [
    "There are four points of interest on this GUI:-\n",
    "* The refresh programs button, when pressed this button rescans`programs` and updates the GUI's list of available programs e.g. removing any  that have been deleted or adding newly compiled programs\n",
    "* The program select dropdown, this dropdown lists all programs known to the GUI letting you select which you wish to load on to the overlay\n",
    "* The load program button, when clicked this button will read the binary of the program selected using the program select dropdown and load it into the overlay BRAM and reset the pc to the start of the program\n",
    "* The last loaded field, this field shows the name of the last program loaded by the GUI. This will normal be the program currently running on the board, assuming the board has remained connected and only the GUI has been used for loading programs."
   ]
  },
  {
   "cell_type": "markdown",
   "metadata": {},
   "source": [
    "## execution_control GUI"
   ]
  },
  {
   "cell_type": "markdown",
   "metadata": {},
   "source": [
    "The execution_control GUI is responsible for controling the overlay's NERORV core's clock, this enables control over when the NERORV core can execute instructions. This control can vary from  running in single clock cycle steps to running the overlay until a specific position within the program is reached. The execution_control GUI is displayed using the code below"
   ]
  },
  {
   "cell_type": "code",
   "execution_count": 19,
   "metadata": {},
   "outputs": [
    {
     "data": {
      "application/vnd.jupyter.widget-view+json": {
       "model_id": "b4311c030b97496195fc81485c742f23",
       "version_major": 2,
       "version_minor": 0
      },
      "text/plain": [
       "VBox(children=(Label(value='Execution Control:'), HBox(children=(VBox(children=(Label(value='Clock Counter ena…"
      ]
     },
     "metadata": {},
     "output_type": "display_data"
    }
   ],
   "source": [
    " ol.execution_control()"
   ]
  },
  {
   "cell_type": "markdown",
   "metadata": {},
   "source": []
  },
  {
   "cell_type": "markdown",
   "metadata": {},
   "source": [
    "## show_internals GUI"
   ]
  },
  {
   "cell_type": "markdown",
   "metadata": {},
   "source": [
    "display a range of signals internal to the overlay, to aid in debugging and/or tracking of the instructions though the overlay"
   ]
  },
  {
   "cell_type": "code",
   "execution_count": 22,
   "metadata": {},
   "outputs": [
    {
     "data": {
      "application/vnd.jupyter.widget-view+json": {
       "model_id": "6508276e6ce540d39f9cd148267d05b3",
       "version_major": 2,
       "version_minor": 0
      },
      "text/plain": [
       "VBox(children=(Label(value='Internals'), Tab(children=(VBox(children=(Label(value='Regfile'), HBox(children=(V…"
      ]
     },
     "metadata": {},
     "output_type": "display_data"
    }
   ],
   "source": [
    "ol.show_internals()"
   ]
  },
  {
   "cell_type": "markdown",
   "metadata": {},
   "source": []
  }
 ],
 "metadata": {
  "kernelspec": {
   "display_name": "Python 3",
   "language": "python",
   "name": "python3"
  },
  "language_info": {
   "codemirror_mode": {
    "name": "ipython",
    "version": 3
   },
   "file_extension": ".py",
   "mimetype": "text/x-python",
   "name": "python",
   "nbconvert_exporter": "python",
   "pygments_lexer": "ipython3",
   "version": "3.6.5"
  }
 },
 "nbformat": 4,
 "nbformat_minor": 5
}
